{
  "nbformat": 4,
  "nbformat_minor": 0,
  "metadata": {
    "colab": {
      "provenance": []
    },
    "kernelspec": {
      "name": "python3",
      "display_name": "Python 3"
    },
    "language_info": {
      "name": "python"
    }
  },
  "cells": [
    {
      "cell_type": "code",
      "execution_count": 30,
      "metadata": {
        "colab": {
          "base_uri": "https://localhost:8080/"
        },
        "id": "_Nd24c6Ntsu0",
        "outputId": "602f0333-77c5-4cc8-d201-6dead62c8637"
      },
      "outputs": [
        {
          "output_type": "stream",
          "name": "stdout",
          "text": [
            "75.0cm²\n"
          ]
        }
      ],
      "source": [
        "jo_hen = 10\n",
        "ka_hen = 20\n",
        "takasa = 5\n",
        "menseki = (jo_hen + ka_hen) * takasa / 2\n",
        "\n",
        "print(f\"{menseki}cm²\")\n"
      ]
    },
    {
      "cell_type": "markdown",
      "source": [],
      "metadata": {
        "id": "eqzkQ5EEz1Aw"
      }
    }
  ]
}