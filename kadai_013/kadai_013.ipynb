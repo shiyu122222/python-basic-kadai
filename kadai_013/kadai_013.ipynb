{
  "nbformat": 4,
  "nbformat_minor": 0,
  "metadata": {
    "colab": {
      "provenance": []
    },
    "kernelspec": {
      "name": "python3",
      "display_name": "Python 3"
    },
    "language_info": {
      "name": "python"
    }
  },
  "cells": [
    {
      "cell_type": "code",
      "execution_count": 37,
      "metadata": {
        "colab": {
          "base_uri": "https://localhost:8080/"
        },
        "id": "_Nd24c6Ntsu0",
        "outputId": "9bc0570d-dcaf-4489-8a6a-2f33743f763d"
      },
      "outputs": [
        {
          "output_type": "stream",
          "name": "stdout",
          "text": [
            "220\n"
          ]
        }
      ],
      "source": [
        "def add_tax(price,tax):\n",
        "    price = price + tax\n",
        "    print(price)\n",
        "\n",
        "add_tax(200,20)\n",
        "\n",
        "\n"
      ]
    },
    {
      "cell_type": "markdown",
      "source": [],
      "metadata": {
        "id": "eqzkQ5EEz1Aw"
      }
    }
  ]
}