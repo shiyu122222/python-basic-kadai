{
  "nbformat": 4,
  "nbformat_minor": 0,
  "metadata": {
    "colab": {
      "provenance": []
    },
    "kernelspec": {
      "name": "python3",
      "display_name": "Python 3"
    },
    "language_info": {
      "name": "python"
    }
  },
  "cells": [
    {
      "cell_type": "code",
      "execution_count": 9,
      "metadata": {
        "colab": {
          "base_uri": "https://localhost:8080/"
        },
        "id": "_Nd24c6Ntsu0",
        "outputId": "4ed4c80b-456b-4325-89ca-e677ae8a6078"
      },
      "outputs": [
        {
          "output_type": "stream",
          "name": "stdout",
          "text": [
            "220.0\n"
          ]
        }
      ],
      "source": [
        "def add_tax(price, tax):\n",
        "    price = price + tax\n",
        "    return price\n",
        "\n",
        "new_price = add_tax(200, price / 10)\n",
        "print(new_price)"
      ]
    }
  ]
}