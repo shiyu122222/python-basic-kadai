{
  "nbformat": 4,
  "nbformat_minor": 0,
  "metadata": {
    "colab": {
      "provenance": []
    },
    "kernelspec": {
      "name": "python3",
      "display_name": "Python 3"
    },
    "language_info": {
      "name": "python"
    }
  },
  "cells": [
    {
      "cell_type": "code",
      "execution_count": 72,
      "metadata": {
        "colab": {
          "base_uri": "https://localhost:8080/"
        },
        "id": "_Nd24c6Ntsu0",
        "outputId": "b8867fa1-99b7-4adf-a42e-7e57e37209c8"
      },
      "outputs": [
        {
          "output_type": "stream",
          "name": "stdout",
          "text": [
            "220.0\n"
          ]
        }
      ],
      "source": [
        "def add_tax(price, tax):\n",
        "    price = price + tax\n",
        "    print(price)\n",
        "    return price\n",
        "\n",
        "price = 200\n",
        "tax = price / 10\n",
        "\n",
        "new_price = add_tax(price, tax)\n",
        "\n",
        "\n"
      ]
    },
    {
      "cell_type": "markdown",
      "source": [],
      "metadata": {
        "id": "eqzkQ5EEz1Aw"
      }
    }
  ]
}